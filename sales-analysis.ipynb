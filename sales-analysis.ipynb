{
 "cells": [
  {
   "cell_type": "code",
   "execution_count": 3,
   "id": "4e0237c7-97a4-486a-bf68-8236aed282ca",
   "metadata": {},
   "outputs": [
    {
     "name": "stdout",
     "output_type": "stream",
     "text": [
      "<class 'pandas.core.frame.DataFrame'>\n",
      "RangeIndex: 1034 entries, 0 to 1033\n",
      "Data columns (total 9 columns):\n",
      " #   Column         Non-Null Count  Dtype  \n",
      "---  ------         --------------  -----  \n",
      " 0   Game           1034 non-null   object \n",
      " 1   Year           825 non-null    float64\n",
      " 2   Genre          1034 non-null   object \n",
      " 3   Publisher      825 non-null    object \n",
      " 4   North America  1034 non-null   float64\n",
      " 5   Europe         1034 non-null   float64\n",
      " 6   Japan          1034 non-null   float64\n",
      " 7   Rest of World  1034 non-null   float64\n",
      " 8   Global         1034 non-null   float64\n",
      "dtypes: float64(6), object(3)\n",
      "memory usage: 72.8+ KB\n"
     ]
    }
   ],
   "source": [
    "import pandas as pd\n",
    "\n",
    "df = pd.read_csv(r\"C:\\Users\\govind\\Learning\\Machine learning\\game-sales-analysis\\PS4_GamesSales.csv\",  encoding='cp1252')\n",
    "\n",
    "df.info()\n"
   ]
  },
  {
   "cell_type": "code",
   "execution_count": 4,
   "id": "d1ac9579-1778-436a-9f1c-c94cd1f51208",
   "metadata": {},
   "outputs": [
    {
     "data": {
      "text/plain": [
       "Game               0\n",
       "Year             209\n",
       "Genre              0\n",
       "Publisher        209\n",
       "North America      0\n",
       "Europe             0\n",
       "Japan              0\n",
       "Rest of World      0\n",
       "Global             0\n",
       "dtype: int64"
      ]
     },
     "execution_count": 4,
     "metadata": {},
     "output_type": "execute_result"
    }
   ],
   "source": [
    "df.isnull().sum()"
   ]
  },
  {
   "cell_type": "code",
   "execution_count": 6,
   "id": "b99b5b45-9773-4f72-b65a-bb43a6a1066d",
   "metadata": {},
   "outputs": [],
   "source": [
    "df.dropna(subset=['Year','Publisher'],inplace=True)"
   ]
  },
  {
   "cell_type": "code",
   "execution_count": 7,
   "id": "be2aae7b-b9b1-4e13-8bde-de4c953a1187",
   "metadata": {},
   "outputs": [
    {
     "data": {
      "text/plain": [
       "Game             0\n",
       "Year             0\n",
       "Genre            0\n",
       "Publisher        0\n",
       "North America    0\n",
       "Europe           0\n",
       "Japan            0\n",
       "Rest of World    0\n",
       "Global           0\n",
       "dtype: int64"
      ]
     },
     "execution_count": 7,
     "metadata": {},
     "output_type": "execute_result"
    }
   ],
   "source": [
    "df.isnull().sum()\n"
   ]
  },
  {
   "cell_type": "code",
   "execution_count": 9,
   "id": "dcc89b97-b3af-4c6e-b577-701dac53c0e2",
   "metadata": {},
   "outputs": [
    {
     "name": "stdout",
     "output_type": "stream",
     "text": [
      "<class 'pandas.core.frame.DataFrame'>\n",
      "Index: 825 entries, 0 to 1030\n",
      "Data columns (total 9 columns):\n",
      " #   Column         Non-Null Count  Dtype  \n",
      "---  ------         --------------  -----  \n",
      " 0   Game           825 non-null    object \n",
      " 1   Year           825 non-null    float64\n",
      " 2   Genre          825 non-null    object \n",
      " 3   Publisher      825 non-null    object \n",
      " 4   North America  825 non-null    float64\n",
      " 5   Europe         825 non-null    float64\n",
      " 6   Japan          825 non-null    float64\n",
      " 7   Rest of World  825 non-null    float64\n",
      " 8   Global         825 non-null    float64\n",
      "dtypes: float64(6), object(3)\n",
      "memory usage: 64.5+ KB\n"
     ]
    }
   ],
   "source": [
    "df.info()\n"
   ]
  },
  {
   "cell_type": "code",
   "execution_count": 11,
   "id": "8c2cae79-37dc-4d2c-b50d-2d3c6b3a1df0",
   "metadata": {},
   "outputs": [],
   "source": [
    "import matplotlib.pyplot as plt\n",
    "import seaborn as sns\n",
    "\n",
    "sns.set_style('dark')"
   ]
  },
  {
   "cell_type": "code",
   "execution_count": null,
   "id": "f5acf26a-f53f-4d69-adbd-b8667779a449",
   "metadata": {},
   "outputs": [],
   "source": []
  }
 ],
 "metadata": {
  "kernelspec": {
   "display_name": "Python 3 (ipykernel)",
   "language": "python",
   "name": "python3"
  },
  "language_info": {
   "codemirror_mode": {
    "name": "ipython",
    "version": 3
   },
   "file_extension": ".py",
   "mimetype": "text/x-python",
   "name": "python",
   "nbconvert_exporter": "python",
   "pygments_lexer": "ipython3",
   "version": "3.11.9"
  }
 },
 "nbformat": 4,
 "nbformat_minor": 5
}
